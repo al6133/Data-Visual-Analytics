{
  "nbformat": 4,
  "nbformat_minor": 0,
  "metadata": {
    "colab": {
      "provenance": [],
      "collapsed_sections": []
    },
    "kernelspec": {
      "name": "python3",
      "display_name": "Python 3"
    },
    "language_info": {
      "name": "python"
    }
  },
  "cells": [
    {
      "cell_type": "markdown",
      "source": [],
      "metadata": {
        "id": "hXBTJkyJAMFl"
      }
    },
    {
      "cell_type": "markdown",
      "source": [
        " **1. Installing Dependencies**"
      ],
      "metadata": {
        "id": "qDcVOWk_AOz0"
      }
    },
    {
      "cell_type": "code",
      "source": [
        "%pip install pyodbc"
      ],
      "metadata": {
        "id": "nZv_lzlcTa-B"
      },
      "execution_count": null,
      "outputs": []
    },
    {
      "cell_type": "code",
      "source": [
        "# I used this to install the sql driver: no need to run again.\n",
        "%%sh\n",
        "curl https://packages.microsoft.com/keys/microsoft.asc | apt-key add -\n",
        "curl https://packages.microsoft.com/config/ubuntu/16.04/prod.list > /etc/apt/sources.list.d/mssql-release.list\n",
        "sudo apt-get update\n",
        "sudo ACCEPT_EULA=Y apt-get -q -y install msodbcsql17"
      ],
      "metadata": {
        "id": "IJjEun2RTmtP"
      },
      "execution_count": null,
      "outputs": []
    },
    {
      "cell_type": "markdown",
      "source": [
        "**2. Importing the libraries**"
      ],
      "metadata": {
        "id": "hSZfpviwUwlE"
      }
    },
    {
      "cell_type": "code",
      "source": [
        "#Standard libraries\n",
        "import pyodbc\n",
        "from sqlalchemy import create_engine\n",
        "import urllib.parse\n",
        "import datetime\n",
        "import pandas as pd\n",
        "import numpy as np\n",
        "import math\n",
        "import random\n",
        "import time\n",
        "from collections import Counter\n",
        "\n",
        "# Tools\n",
        "from scipy.stats import kurtosis, skew\n",
        "from sklearn import preprocessing\n",
        "from sklearn.preprocessing import StandardScaler\n",
        "\n",
        "# Visualizations\n",
        "from matplotlib import pyplot as plt, ticker as ticker\n",
        "import seaborn as sns\n",
        "sns.set(style=\"whitegrid\", rc={'figure.figsize':(15,6)})\n",
        "%matplotlib inline\n",
        "\n",
        "#Suppress warnings\n",
        "import warnings\n",
        "warnings.filterwarnings('ignore')\n"
      ],
      "metadata": {
        "id": "6amYYQ79S78W"
      },
      "execution_count": 90,
      "outputs": []
    },
    {
      "cell_type": "code",
      "source": [
        "#database\n",
        "server = 'dva-fall22.database.windows.net'\n",
        "database = 'cse6242'\n",
        "username = 'admin-dva'\n",
        "password = '{expert-cranberry-genius-2022}'\n",
        "driver = '{ODBC Driver 17 for SQL Server}'"
      ],
      "metadata": {
        "id": "ILMXr212jOxB"
      },
      "execution_count": 32,
      "outputs": []
    },
    {
      "cell_type": "markdown",
      "source": [
        "**3. Reading data**"
      ],
      "metadata": {
        "id": "KCzzJZLRfmki"
      }
    },
    {
      "cell_type": "code",
      "source": [
        "#SQL to get all the data from db\n",
        "dim_test_outcome_query = ''' SELECT * FROM dbo.mdr_test_outcome'''\n",
        "dim_test_type_query = ''' SELECT * FROM dbo.mdr_test_type'''\n",
        "dim_fuel_type_query = '''  SELECT * FROM dbo.mdr_fuel_type'''\n",
        "dim_group_item_query = '''  SELECT DISTINCT id.rfr_id, id.test_class_id, id.rfr_desc, id.rfr_insp_manual_desc, gd.item_name \n",
        "                            FROM dbo.item_detail AS id\n",
        "                            JOIN dbo.group_detail AS gd ON gd.test_class_id = id.test_class_id AND gd.test_item_id = id.test_item_id'''\n",
        "\n",
        "fact_test_results_query = ''' SELECT * FROM _test_results_2021_formatted_sample_of_1_000_000_rows'''\n",
        "fact_test_items_query = ''' SELECT * FROM _test_items_of_test_results_2021_formatted_sample_of_1_000_000_rows''' \n"
      ],
      "metadata": {
        "id": "Lhrs2pJ7CPfM"
      },
      "execution_count": 33,
      "outputs": []
    },
    {
      "cell_type": "code",
      "source": [
        "#Executing the SQL\n",
        "with pyodbc.connect(\n",
        "        'DRIVER=' + driver + ';SERVER=tcp:' + server + ';PORT=1433;DATABASE=' + database + ';UID=' + username + ';PWD=' + password) as conn:\n",
        "  dim_test_outcome = pd.read_sql(dim_test_outcome_query, conn)\n",
        "  dim_test_type = pd.read_sql(dim_test_type_query, conn)\n",
        "  dim_fuel_type = pd.read_sql(dim_fuel_type_query, conn)\n",
        "  dim_group_item = pd.read_sql(dim_group_item_query, conn)\n",
        "\n",
        "\n",
        "  fact_test_results = pd.read_sql(fact_test_results_query, conn)\n",
        "  fact_test_items = pd.read_sql(fact_test_items_query, conn)"
      ],
      "metadata": {
        "id": "sEIjXlKSKmqJ"
      },
      "execution_count": 34,
      "outputs": []
    },
    {
      "cell_type": "markdown",
      "source": [
        "**4. EDA & Data Processing**"
      ],
      "metadata": {
        "id": "-puMLx0TdIzp"
      }
    },
    {
      "cell_type": "markdown",
      "source": [
        "Haven't merged the Test items table. It contains a couple of features like `test_id`, `rfr_id`, `location_id` etc. which I don't think would be useful in  modelling"
      ],
      "metadata": {
        "id": "ytQ3cc8qP4t5"
      }
    },
    {
      "cell_type": "code",
      "source": [
        "#Merging all the tables together to create one single dataframe\n",
        "fact_results = pd.merge(fact_test_results,dim_test_outcome, left_on = \"test_result\", right_on = \"result_code\", how = \"inner\")\n",
        "fact_results = pd.merge(fact_results, dim_test_type.add_suffix('_dim'), left_on = \"test_type\", right_on = \"type_code_dim\", how = \"inner\")\n",
        "fact_results.drop(['test_result', 'result_code','test_type', 'type_code_dim' ], inplace = True, axis = 1)\n",
        "fact_results = pd.merge(fact_results, dim_fuel_type.add_suffix('_dim'), left_on = \"fuel_type\", right_on = \"type_code_dim\", how = \"inner\")\n",
        "fact_results.drop([ 'fuel_type', 'type_code_dim' ], inplace = True, axis = 1)"
      ],
      "metadata": {
        "id": "y_BQnEJvMAjb"
      },
      "execution_count": 52,
      "outputs": []
    },
    {
      "cell_type": "code",
      "source": [
        "fact_results.shape"
      ],
      "metadata": {
        "colab": {
          "base_uri": "https://localhost:8080/"
        },
        "id": "N_CPBYcMkI0X",
        "outputId": "04a6b126-c171-4ec5-d2d0-83cb83e8f10e"
      },
      "execution_count": 36,
      "outputs": [
        {
          "output_type": "execute_result",
          "data": {
            "text/plain": [
              "(999992, 14)"
            ]
          },
          "metadata": {},
          "execution_count": 36
        }
      ]
    },
    {
      "cell_type": "code",
      "source": [
        "fact_results.dtypes"
      ],
      "metadata": {
        "colab": {
          "base_uri": "https://localhost:8080/"
        },
        "id": "xOjoAR_0l3IC",
        "outputId": "b36b2cc8-29c6-4f97-959d-4f3e9778c8bf"
      },
      "execution_count": 50,
      "outputs": [
        {
          "output_type": "execute_result",
          "data": {
            "text/plain": [
              "test_id                int64\n",
              "vehicle_id             int64\n",
              "test_date             object\n",
              "test_class_id          int64\n",
              "test_mileage         float64\n",
              "postcode_area         object\n",
              "make                  object\n",
              "model                 object\n",
              "colour                object\n",
              "cylinder_capacity    float64\n",
              "first_use_date        object\n",
              "result                object\n",
              "test_type_dim         object\n",
              "fuel_type_dim         object\n",
              "dtype: object"
            ]
          },
          "metadata": {},
          "execution_count": 50
        }
      ]
    },
    {
      "cell_type": "code",
      "source": [
        "# #Regrouping the results into 3 main categories\n",
        "fact_results['result_grouped'] = fact_results['result'].map({'Passed' : 'Passed', 'Pass with Rectification at Station' : 'Passed', 'Failed' : 'Failed', 'Aborted' : 'Insufficient', 'Abandoned' : 'Insufficient', 'Aborted by VE': 'Insufficient'})\n",
        "\n",
        "#Vehicle Id is not necessarily needed as the vehicle details can be identified by other features like make, model, colour etc. \n",
        "fact_results.drop(columns = ['result', 'vehicle_id'], inplace = True)\n",
        "fact_results.rename(columns = {'result_grouped' : 'result', 'fuel_type_dim' : 'fuel_type', 'test_type_dim' : 'test_type'}, inplace = True)\n",
        "fact_results.head()"
      ],
      "metadata": {
        "colab": {
          "base_uri": "https://localhost:8080/",
          "height": 206
        },
        "id": "pBdo4m4HmtJO",
        "outputId": "342e6c93-9c00-40e8-f40f-a4002334fea0"
      },
      "execution_count": 54,
      "outputs": [
        {
          "output_type": "execute_result",
          "data": {
            "text/plain": [
              "   test_id   test_date  test_class_id  test_mileage postcode_area  \\\n",
              "0       59  2021-08-21              4      120775.0            SO   \n",
              "1      171  2021-08-09              4       52073.0            CA   \n",
              "2      193  2021-02-12              4      100119.0            PR   \n",
              "3      261  2021-12-06              4       86455.0            ST   \n",
              "4      283  2021-07-26              4       24737.0            DN   \n",
              "\n",
              "            make      model  colour  cylinder_capacity first_use_date  \\\n",
              "0  MERCEDES-BENZ          C  SILVER             2148.0     2005-11-04   \n",
              "1     VOLKSWAGEN     TIGUAN    GREY             1968.0     2015-10-17   \n",
              "2           AUDI         A4    BLUE             1968.0     2008-11-19   \n",
              "3     LAND ROVER  DISCOVERY    BLUE             2495.0     2004-07-26   \n",
              "4           FIAT     DUCATO   WHITE             2287.0     2007-09-04   \n",
              "\n",
              "     test_type fuel_type  result  \n",
              "0  Normal Test    Diesel  Passed  \n",
              "1  Normal Test    Diesel  Passed  \n",
              "2  Normal Test    Diesel  Passed  \n",
              "3  Normal Test    Diesel  Passed  \n",
              "4  Normal Test    Diesel  Passed  "
            ],
            "text/html": [
              "\n",
              "  <div id=\"df-0df401e1-7ac1-434e-877f-a4edc7af66a6\">\n",
              "    <div class=\"colab-df-container\">\n",
              "      <div>\n",
              "<style scoped>\n",
              "    .dataframe tbody tr th:only-of-type {\n",
              "        vertical-align: middle;\n",
              "    }\n",
              "\n",
              "    .dataframe tbody tr th {\n",
              "        vertical-align: top;\n",
              "    }\n",
              "\n",
              "    .dataframe thead th {\n",
              "        text-align: right;\n",
              "    }\n",
              "</style>\n",
              "<table border=\"1\" class=\"dataframe\">\n",
              "  <thead>\n",
              "    <tr style=\"text-align: right;\">\n",
              "      <th></th>\n",
              "      <th>test_id</th>\n",
              "      <th>test_date</th>\n",
              "      <th>test_class_id</th>\n",
              "      <th>test_mileage</th>\n",
              "      <th>postcode_area</th>\n",
              "      <th>make</th>\n",
              "      <th>model</th>\n",
              "      <th>colour</th>\n",
              "      <th>cylinder_capacity</th>\n",
              "      <th>first_use_date</th>\n",
              "      <th>test_type</th>\n",
              "      <th>fuel_type</th>\n",
              "      <th>result</th>\n",
              "    </tr>\n",
              "  </thead>\n",
              "  <tbody>\n",
              "    <tr>\n",
              "      <th>0</th>\n",
              "      <td>59</td>\n",
              "      <td>2021-08-21</td>\n",
              "      <td>4</td>\n",
              "      <td>120775.0</td>\n",
              "      <td>SO</td>\n",
              "      <td>MERCEDES-BENZ</td>\n",
              "      <td>C</td>\n",
              "      <td>SILVER</td>\n",
              "      <td>2148.0</td>\n",
              "      <td>2005-11-04</td>\n",
              "      <td>Normal Test</td>\n",
              "      <td>Diesel</td>\n",
              "      <td>Passed</td>\n",
              "    </tr>\n",
              "    <tr>\n",
              "      <th>1</th>\n",
              "      <td>171</td>\n",
              "      <td>2021-08-09</td>\n",
              "      <td>4</td>\n",
              "      <td>52073.0</td>\n",
              "      <td>CA</td>\n",
              "      <td>VOLKSWAGEN</td>\n",
              "      <td>TIGUAN</td>\n",
              "      <td>GREY</td>\n",
              "      <td>1968.0</td>\n",
              "      <td>2015-10-17</td>\n",
              "      <td>Normal Test</td>\n",
              "      <td>Diesel</td>\n",
              "      <td>Passed</td>\n",
              "    </tr>\n",
              "    <tr>\n",
              "      <th>2</th>\n",
              "      <td>193</td>\n",
              "      <td>2021-02-12</td>\n",
              "      <td>4</td>\n",
              "      <td>100119.0</td>\n",
              "      <td>PR</td>\n",
              "      <td>AUDI</td>\n",
              "      <td>A4</td>\n",
              "      <td>BLUE</td>\n",
              "      <td>1968.0</td>\n",
              "      <td>2008-11-19</td>\n",
              "      <td>Normal Test</td>\n",
              "      <td>Diesel</td>\n",
              "      <td>Passed</td>\n",
              "    </tr>\n",
              "    <tr>\n",
              "      <th>3</th>\n",
              "      <td>261</td>\n",
              "      <td>2021-12-06</td>\n",
              "      <td>4</td>\n",
              "      <td>86455.0</td>\n",
              "      <td>ST</td>\n",
              "      <td>LAND ROVER</td>\n",
              "      <td>DISCOVERY</td>\n",
              "      <td>BLUE</td>\n",
              "      <td>2495.0</td>\n",
              "      <td>2004-07-26</td>\n",
              "      <td>Normal Test</td>\n",
              "      <td>Diesel</td>\n",
              "      <td>Passed</td>\n",
              "    </tr>\n",
              "    <tr>\n",
              "      <th>4</th>\n",
              "      <td>283</td>\n",
              "      <td>2021-07-26</td>\n",
              "      <td>4</td>\n",
              "      <td>24737.0</td>\n",
              "      <td>DN</td>\n",
              "      <td>FIAT</td>\n",
              "      <td>DUCATO</td>\n",
              "      <td>WHITE</td>\n",
              "      <td>2287.0</td>\n",
              "      <td>2007-09-04</td>\n",
              "      <td>Normal Test</td>\n",
              "      <td>Diesel</td>\n",
              "      <td>Passed</td>\n",
              "    </tr>\n",
              "  </tbody>\n",
              "</table>\n",
              "</div>\n",
              "      <button class=\"colab-df-convert\" onclick=\"convertToInteractive('df-0df401e1-7ac1-434e-877f-a4edc7af66a6')\"\n",
              "              title=\"Convert this dataframe to an interactive table.\"\n",
              "              style=\"display:none;\">\n",
              "        \n",
              "  <svg xmlns=\"http://www.w3.org/2000/svg\" height=\"24px\"viewBox=\"0 0 24 24\"\n",
              "       width=\"24px\">\n",
              "    <path d=\"M0 0h24v24H0V0z\" fill=\"none\"/>\n",
              "    <path d=\"M18.56 5.44l.94 2.06.94-2.06 2.06-.94-2.06-.94-.94-2.06-.94 2.06-2.06.94zm-11 1L8.5 8.5l.94-2.06 2.06-.94-2.06-.94L8.5 2.5l-.94 2.06-2.06.94zm10 10l.94 2.06.94-2.06 2.06-.94-2.06-.94-.94-2.06-.94 2.06-2.06.94z\"/><path d=\"M17.41 7.96l-1.37-1.37c-.4-.4-.92-.59-1.43-.59-.52 0-1.04.2-1.43.59L10.3 9.45l-7.72 7.72c-.78.78-.78 2.05 0 2.83L4 21.41c.39.39.9.59 1.41.59.51 0 1.02-.2 1.41-.59l7.78-7.78 2.81-2.81c.8-.78.8-2.07 0-2.86zM5.41 20L4 18.59l7.72-7.72 1.47 1.35L5.41 20z\"/>\n",
              "  </svg>\n",
              "      </button>\n",
              "      \n",
              "  <style>\n",
              "    .colab-df-container {\n",
              "      display:flex;\n",
              "      flex-wrap:wrap;\n",
              "      gap: 12px;\n",
              "    }\n",
              "\n",
              "    .colab-df-convert {\n",
              "      background-color: #E8F0FE;\n",
              "      border: none;\n",
              "      border-radius: 50%;\n",
              "      cursor: pointer;\n",
              "      display: none;\n",
              "      fill: #1967D2;\n",
              "      height: 32px;\n",
              "      padding: 0 0 0 0;\n",
              "      width: 32px;\n",
              "    }\n",
              "\n",
              "    .colab-df-convert:hover {\n",
              "      background-color: #E2EBFA;\n",
              "      box-shadow: 0px 1px 2px rgba(60, 64, 67, 0.3), 0px 1px 3px 1px rgba(60, 64, 67, 0.15);\n",
              "      fill: #174EA6;\n",
              "    }\n",
              "\n",
              "    [theme=dark] .colab-df-convert {\n",
              "      background-color: #3B4455;\n",
              "      fill: #D2E3FC;\n",
              "    }\n",
              "\n",
              "    [theme=dark] .colab-df-convert:hover {\n",
              "      background-color: #434B5C;\n",
              "      box-shadow: 0px 1px 3px 1px rgba(0, 0, 0, 0.15);\n",
              "      filter: drop-shadow(0px 1px 2px rgba(0, 0, 0, 0.3));\n",
              "      fill: #FFFFFF;\n",
              "    }\n",
              "  </style>\n",
              "\n",
              "      <script>\n",
              "        const buttonEl =\n",
              "          document.querySelector('#df-0df401e1-7ac1-434e-877f-a4edc7af66a6 button.colab-df-convert');\n",
              "        buttonEl.style.display =\n",
              "          google.colab.kernel.accessAllowed ? 'block' : 'none';\n",
              "\n",
              "        async function convertToInteractive(key) {\n",
              "          const element = document.querySelector('#df-0df401e1-7ac1-434e-877f-a4edc7af66a6');\n",
              "          const dataTable =\n",
              "            await google.colab.kernel.invokeFunction('convertToInteractive',\n",
              "                                                     [key], {});\n",
              "          if (!dataTable) return;\n",
              "\n",
              "          const docLinkHtml = 'Like what you see? Visit the ' +\n",
              "            '<a target=\"_blank\" href=https://colab.research.google.com/notebooks/data_table.ipynb>data table notebook</a>'\n",
              "            + ' to learn more about interactive tables.';\n",
              "          element.innerHTML = '';\n",
              "          dataTable['output_type'] = 'display_data';\n",
              "          await google.colab.output.renderOutput(dataTable, element);\n",
              "          const docLink = document.createElement('div');\n",
              "          docLink.innerHTML = docLinkHtml;\n",
              "          element.appendChild(docLink);\n",
              "        }\n",
              "      </script>\n",
              "    </div>\n",
              "  </div>\n",
              "  "
            ]
          },
          "metadata": {},
          "execution_count": 54
        }
      ]
    },
    {
      "cell_type": "code",
      "source": [
        "#Calculating Vehicle Age \n",
        "fact_results['test_date'] = pd.to_datetime(fact_results.test_date,  format='%Y-%m-%d')\n",
        "fact_results['first_use_date'] = pd.to_datetime(fact_results.first_use_date,  format='%Y-%m-%d')\n",
        "\n",
        "#Dropping the rows where test_date is before the first_use_date as this scenario is not possible & incorrect\n",
        "fact_results = fact_results[fact_results.test_date >= fact_results.first_use_date]\n",
        "\n",
        "fact_results['Age'] = fact_results.test_date - fact_results.first_use_date\n",
        "fact_results['Age'] = fact_results.Age.dt.days\n",
        "\n",
        "fact_results.drop(columns = ['test_date', 'first_use_date'], inplace = True)"
      ],
      "metadata": {
        "id": "bxXMikAgi3_W"
      },
      "execution_count": 55,
      "outputs": []
    },
    {
      "cell_type": "code",
      "source": [
        "fact_results.head()"
      ],
      "metadata": {
        "colab": {
          "base_uri": "https://localhost:8080/",
          "height": 206
        },
        "id": "v-UmBOQcqEJ8",
        "outputId": "8983fc21-dc13-43eb-d650-ce628316ee93"
      },
      "execution_count": 56,
      "outputs": [
        {
          "output_type": "execute_result",
          "data": {
            "text/plain": [
              "   test_id  test_class_id  test_mileage postcode_area           make  \\\n",
              "0       59              4      120775.0            SO  MERCEDES-BENZ   \n",
              "1      171              4       52073.0            CA     VOLKSWAGEN   \n",
              "2      193              4      100119.0            PR           AUDI   \n",
              "3      261              4       86455.0            ST     LAND ROVER   \n",
              "4      283              4       24737.0            DN           FIAT   \n",
              "\n",
              "       model  colour  cylinder_capacity    test_type fuel_type  result   Age  \n",
              "0          C  SILVER             2148.0  Normal Test    Diesel  Passed  5769  \n",
              "1     TIGUAN    GREY             1968.0  Normal Test    Diesel  Passed  2123  \n",
              "2         A4    BLUE             1968.0  Normal Test    Diesel  Passed  4468  \n",
              "3  DISCOVERY    BLUE             2495.0  Normal Test    Diesel  Passed  6342  \n",
              "4     DUCATO   WHITE             2287.0  Normal Test    Diesel  Passed  5074  "
            ],
            "text/html": [
              "\n",
              "  <div id=\"df-0dd77306-40fb-457e-a9f0-f4e4a65c1125\">\n",
              "    <div class=\"colab-df-container\">\n",
              "      <div>\n",
              "<style scoped>\n",
              "    .dataframe tbody tr th:only-of-type {\n",
              "        vertical-align: middle;\n",
              "    }\n",
              "\n",
              "    .dataframe tbody tr th {\n",
              "        vertical-align: top;\n",
              "    }\n",
              "\n",
              "    .dataframe thead th {\n",
              "        text-align: right;\n",
              "    }\n",
              "</style>\n",
              "<table border=\"1\" class=\"dataframe\">\n",
              "  <thead>\n",
              "    <tr style=\"text-align: right;\">\n",
              "      <th></th>\n",
              "      <th>test_id</th>\n",
              "      <th>test_class_id</th>\n",
              "      <th>test_mileage</th>\n",
              "      <th>postcode_area</th>\n",
              "      <th>make</th>\n",
              "      <th>model</th>\n",
              "      <th>colour</th>\n",
              "      <th>cylinder_capacity</th>\n",
              "      <th>test_type</th>\n",
              "      <th>fuel_type</th>\n",
              "      <th>result</th>\n",
              "      <th>Age</th>\n",
              "    </tr>\n",
              "  </thead>\n",
              "  <tbody>\n",
              "    <tr>\n",
              "      <th>0</th>\n",
              "      <td>59</td>\n",
              "      <td>4</td>\n",
              "      <td>120775.0</td>\n",
              "      <td>SO</td>\n",
              "      <td>MERCEDES-BENZ</td>\n",
              "      <td>C</td>\n",
              "      <td>SILVER</td>\n",
              "      <td>2148.0</td>\n",
              "      <td>Normal Test</td>\n",
              "      <td>Diesel</td>\n",
              "      <td>Passed</td>\n",
              "      <td>5769</td>\n",
              "    </tr>\n",
              "    <tr>\n",
              "      <th>1</th>\n",
              "      <td>171</td>\n",
              "      <td>4</td>\n",
              "      <td>52073.0</td>\n",
              "      <td>CA</td>\n",
              "      <td>VOLKSWAGEN</td>\n",
              "      <td>TIGUAN</td>\n",
              "      <td>GREY</td>\n",
              "      <td>1968.0</td>\n",
              "      <td>Normal Test</td>\n",
              "      <td>Diesel</td>\n",
              "      <td>Passed</td>\n",
              "      <td>2123</td>\n",
              "    </tr>\n",
              "    <tr>\n",
              "      <th>2</th>\n",
              "      <td>193</td>\n",
              "      <td>4</td>\n",
              "      <td>100119.0</td>\n",
              "      <td>PR</td>\n",
              "      <td>AUDI</td>\n",
              "      <td>A4</td>\n",
              "      <td>BLUE</td>\n",
              "      <td>1968.0</td>\n",
              "      <td>Normal Test</td>\n",
              "      <td>Diesel</td>\n",
              "      <td>Passed</td>\n",
              "      <td>4468</td>\n",
              "    </tr>\n",
              "    <tr>\n",
              "      <th>3</th>\n",
              "      <td>261</td>\n",
              "      <td>4</td>\n",
              "      <td>86455.0</td>\n",
              "      <td>ST</td>\n",
              "      <td>LAND ROVER</td>\n",
              "      <td>DISCOVERY</td>\n",
              "      <td>BLUE</td>\n",
              "      <td>2495.0</td>\n",
              "      <td>Normal Test</td>\n",
              "      <td>Diesel</td>\n",
              "      <td>Passed</td>\n",
              "      <td>6342</td>\n",
              "    </tr>\n",
              "    <tr>\n",
              "      <th>4</th>\n",
              "      <td>283</td>\n",
              "      <td>4</td>\n",
              "      <td>24737.0</td>\n",
              "      <td>DN</td>\n",
              "      <td>FIAT</td>\n",
              "      <td>DUCATO</td>\n",
              "      <td>WHITE</td>\n",
              "      <td>2287.0</td>\n",
              "      <td>Normal Test</td>\n",
              "      <td>Diesel</td>\n",
              "      <td>Passed</td>\n",
              "      <td>5074</td>\n",
              "    </tr>\n",
              "  </tbody>\n",
              "</table>\n",
              "</div>\n",
              "      <button class=\"colab-df-convert\" onclick=\"convertToInteractive('df-0dd77306-40fb-457e-a9f0-f4e4a65c1125')\"\n",
              "              title=\"Convert this dataframe to an interactive table.\"\n",
              "              style=\"display:none;\">\n",
              "        \n",
              "  <svg xmlns=\"http://www.w3.org/2000/svg\" height=\"24px\"viewBox=\"0 0 24 24\"\n",
              "       width=\"24px\">\n",
              "    <path d=\"M0 0h24v24H0V0z\" fill=\"none\"/>\n",
              "    <path d=\"M18.56 5.44l.94 2.06.94-2.06 2.06-.94-2.06-.94-.94-2.06-.94 2.06-2.06.94zm-11 1L8.5 8.5l.94-2.06 2.06-.94-2.06-.94L8.5 2.5l-.94 2.06-2.06.94zm10 10l.94 2.06.94-2.06 2.06-.94-2.06-.94-.94-2.06-.94 2.06-2.06.94z\"/><path d=\"M17.41 7.96l-1.37-1.37c-.4-.4-.92-.59-1.43-.59-.52 0-1.04.2-1.43.59L10.3 9.45l-7.72 7.72c-.78.78-.78 2.05 0 2.83L4 21.41c.39.39.9.59 1.41.59.51 0 1.02-.2 1.41-.59l7.78-7.78 2.81-2.81c.8-.78.8-2.07 0-2.86zM5.41 20L4 18.59l7.72-7.72 1.47 1.35L5.41 20z\"/>\n",
              "  </svg>\n",
              "      </button>\n",
              "      \n",
              "  <style>\n",
              "    .colab-df-container {\n",
              "      display:flex;\n",
              "      flex-wrap:wrap;\n",
              "      gap: 12px;\n",
              "    }\n",
              "\n",
              "    .colab-df-convert {\n",
              "      background-color: #E8F0FE;\n",
              "      border: none;\n",
              "      border-radius: 50%;\n",
              "      cursor: pointer;\n",
              "      display: none;\n",
              "      fill: #1967D2;\n",
              "      height: 32px;\n",
              "      padding: 0 0 0 0;\n",
              "      width: 32px;\n",
              "    }\n",
              "\n",
              "    .colab-df-convert:hover {\n",
              "      background-color: #E2EBFA;\n",
              "      box-shadow: 0px 1px 2px rgba(60, 64, 67, 0.3), 0px 1px 3px 1px rgba(60, 64, 67, 0.15);\n",
              "      fill: #174EA6;\n",
              "    }\n",
              "\n",
              "    [theme=dark] .colab-df-convert {\n",
              "      background-color: #3B4455;\n",
              "      fill: #D2E3FC;\n",
              "    }\n",
              "\n",
              "    [theme=dark] .colab-df-convert:hover {\n",
              "      background-color: #434B5C;\n",
              "      box-shadow: 0px 1px 3px 1px rgba(0, 0, 0, 0.15);\n",
              "      filter: drop-shadow(0px 1px 2px rgba(0, 0, 0, 0.3));\n",
              "      fill: #FFFFFF;\n",
              "    }\n",
              "  </style>\n",
              "\n",
              "      <script>\n",
              "        const buttonEl =\n",
              "          document.querySelector('#df-0dd77306-40fb-457e-a9f0-f4e4a65c1125 button.colab-df-convert');\n",
              "        buttonEl.style.display =\n",
              "          google.colab.kernel.accessAllowed ? 'block' : 'none';\n",
              "\n",
              "        async function convertToInteractive(key) {\n",
              "          const element = document.querySelector('#df-0dd77306-40fb-457e-a9f0-f4e4a65c1125');\n",
              "          const dataTable =\n",
              "            await google.colab.kernel.invokeFunction('convertToInteractive',\n",
              "                                                     [key], {});\n",
              "          if (!dataTable) return;\n",
              "\n",
              "          const docLinkHtml = 'Like what you see? Visit the ' +\n",
              "            '<a target=\"_blank\" href=https://colab.research.google.com/notebooks/data_table.ipynb>data table notebook</a>'\n",
              "            + ' to learn more about interactive tables.';\n",
              "          element.innerHTML = '';\n",
              "          dataTable['output_type'] = 'display_data';\n",
              "          await google.colab.output.renderOutput(dataTable, element);\n",
              "          const docLink = document.createElement('div');\n",
              "          docLink.innerHTML = docLinkHtml;\n",
              "          element.appendChild(docLink);\n",
              "        }\n",
              "      </script>\n",
              "    </div>\n",
              "  </div>\n",
              "  "
            ]
          },
          "metadata": {},
          "execution_count": 56
        }
      ]
    },
    {
      "cell_type": "code",
      "source": [
        "plt.figure(figsize=(10,6))\n",
        "sns.countplot(y=fact_results.colour)"
      ],
      "metadata": {
        "colab": {
          "base_uri": "https://localhost:8080/",
          "height": 411
        },
        "id": "T1IjjwrjqbIE",
        "outputId": "8c386783-56ff-4861-999c-46c9db20388b"
      },
      "execution_count": 57,
      "outputs": [
        {
          "output_type": "execute_result",
          "data": {
            "text/plain": [
              "<matplotlib.axes._subplots.AxesSubplot at 0x7fca49437dd0>"
            ]
          },
          "metadata": {},
          "execution_count": 57
        },
        {
          "output_type": "display_data",
          "data": {
            "text/plain": [
              "<Figure size 720x432 with 1 Axes>"
            ],
            "image/png": "[encoded data removed]"
          },
          "metadata": {
            "needs_background": "light"
          }
        }
      ]
    },
    {
      "cell_type": "code",
      "source": [
        "#Replacing the colurs with value \"Not STATED\" to the one that's most frequently used \n",
        "fact_results['colour'] = np.where(fact_results.colour == \"NOT STATED\", fact_results.colour.mode()[0], fact_results.colour)"
      ],
      "metadata": {
        "id": "PcDcgvPYXgbS"
      },
      "execution_count": 58,
      "outputs": []
    },
    {
      "cell_type": "code",
      "source": [
        "fact_results.result.value_counts()"
      ],
      "metadata": {
        "colab": {
          "base_uri": "https://localhost:8080/"
        },
        "id": "VCTwKtIithB0",
        "outputId": "9ef5fc59-e876-4161-ddf0-3795ff3a1c62"
      },
      "execution_count": 59,
      "outputs": [
        {
          "output_type": "execute_result",
          "data": {
            "text/plain": [
              "Passed          804686\n",
              "Failed          189493\n",
              "Insufficient      5617\n",
              "Name: result, dtype: int64"
            ]
          },
          "metadata": {},
          "execution_count": 59
        }
      ]
    },
    {
      "cell_type": "markdown",
      "source": [
        "Since we have a very small % of records with Insufficient results, we will drop these & continue the analysis with conclusive results only"
      ],
      "metadata": {
        "id": "W6Pt_m1R-xcl"
      }
    },
    {
      "cell_type": "code",
      "source": [
        "fact_results = fact_results[fact_results.result != 'Insufficient']"
      ],
      "metadata": {
        "id": "A3GA9ezz-Kmc"
      },
      "execution_count": 60,
      "outputs": []
    },
    {
      "cell_type": "code",
      "source": [
        "df_class = (fact_results.result.value_counts(normalize=True)*100.0).rename('%').reset_index()\n",
        "plt.figure(figsize=(10,9))\n",
        "f = sns.catplot(x='index', y='%', data=df_class, kind='bar')\n",
        "f.ax.set_ylim(0,100)\n",
        "for p in f.ax.patches:\n",
        "    f.ax.text(p.get_x(), p.get_height(), \" \"*5 + str(round(p.get_height(), 3)) + ' %')\n",
        "plt.title(\"Target Class distribution\")\n",
        "plt.xlabel(\"Will the vehicle pass MOT test ?\")\n",
        "plt.ylabel(\"MOT Test distrubition (%)\")\n",
        "plt.show()\n"
      ],
      "metadata": {
        "colab": {
          "base_uri": "https://localhost:8080/",
          "height": 402
        },
        "id": "_5YduyzG-Gra",
        "outputId": "a30ee248-5a4d-42ee-d917-d259c86413b7"
      },
      "execution_count": 61,
      "outputs": [
        {
          "output_type": "display_data",
          "data": {
            "text/plain": [
              "<Figure size 720x648 with 0 Axes>"
            ]
          },
          "metadata": {}
        },
        {
          "output_type": "display_data",
          "data": {
            "text/plain": [
              "<Figure size 360x360 with 1 Axes>"
            ],
            "image/png": "[encoded data removed]"
          },
          "metadata": {
            "needs_background": "light"
          }
        }
      ]
    },
    {
      "cell_type": "code",
      "source": [
        "#Checking for missing values in the entire dataframe\n",
        "fact_results.isna().sum()"
      ],
      "metadata": {
        "colab": {
          "base_uri": "https://localhost:8080/"
        },
        "id": "2HwryY5kzxZq",
        "outputId": "42f7a7ae-39d7-43b5-9522-1f27b8d9a410"
      },
      "execution_count": 62,
      "outputs": [
        {
          "output_type": "execute_result",
          "data": {
            "text/plain": [
              "test_id              0\n",
              "test_class_id        0\n",
              "test_mileage         0\n",
              "postcode_area        0\n",
              "make                 0\n",
              "model                0\n",
              "colour               0\n",
              "cylinder_capacity    0\n",
              "test_type            0\n",
              "fuel_type            0\n",
              "result               0\n",
              "Age                  0\n",
              "dtype: int64"
            ]
          },
          "metadata": {},
          "execution_count": 62
        }
      ]
    },
    {
      "cell_type": "code",
      "source": [
        "fact_results.Age.describe()"
      ],
      "metadata": {
        "colab": {
          "base_uri": "https://localhost:8080/"
        },
        "id": "KGbhIKbfzyum",
        "outputId": "89db8d55-e5ec-402a-c96b-2c03c91166cf"
      },
      "execution_count": 63,
      "outputs": [
        {
          "output_type": "execute_result",
          "data": {
            "text/plain": [
              "count    994179.000000\n",
              "mean       3635.851993\n",
              "std        2019.894800\n",
              "min           0.000000\n",
              "25%        2098.000000\n",
              "50%        3291.000000\n",
              "75%        4902.000000\n",
              "max       34223.000000\n",
              "Name: Age, dtype: float64"
            ]
          },
          "metadata": {},
          "execution_count": 63
        }
      ]
    },
    {
      "cell_type": "code",
      "source": [
        "# Top 10 Vehicle Make - Overall\n",
        "plt.figure(figsize=(15,6))\n",
        "fact_results.make.value_counts()[:10].plot(kind='bar')  # top 10 models\n",
        "plt.xlabel(\"Vehicle Make\")\n",
        "plt.ylabel(\"Count\")\n",
        "plt.title(\"Frequency distribution for Vehicle Make\")\n",
        "plt.show()"
      ],
      "metadata": {
        "colab": {
          "base_uri": "https://localhost:8080/",
          "height": 494
        },
        "id": "ADFwIwnB0F8D",
        "outputId": "d446c00e-f563-4af6-ffe5-b95ccb6d68a0"
      },
      "execution_count": 64,
      "outputs": [
        {
          "output_type": "display_data",
          "data": {
            "text/plain": [
              "<Figure size 1080x432 with 1 Axes>"
            ],
            "image/png": "[encoded data removed]"
          },
          "metadata": {
            "needs_background": "light"
          }
        }
      ]
    },
    {
      "cell_type": "code",
      "source": [
        "# Top 10 models - Failed \n",
        "plt.figure(figsize=(15,6))\n",
        "fact_results.loc[fact_results.result == \"Failed\", 'make'].value_counts()[:10].plot(kind='bar', color = 'red')  # top 10 models\n",
        "plt.xlabel(\"Vehicle Make\")\n",
        "plt.ylabel(\"Count\")\n",
        "plt.title(\"Frequency distribution for Vehicle Makes - Failed\")\n",
        "plt.show()"
      ],
      "metadata": {
        "colab": {
          "base_uri": "https://localhost:8080/",
          "height": 494
        },
        "id": "oabs-XDw5ZJq",
        "outputId": "b99c848d-4ec2-4be5-e599-173caa0ff524"
      },
      "execution_count": 65,
      "outputs": [
        {
          "output_type": "display_data",
          "data": {
            "text/plain": [
              "<Figure size 1080x432 with 1 Axes>"
            ],
            "image/png": "[encoded data removed]"
          },
          "metadata": {
            "needs_background": "light"
          }
        }
      ]
    },
    {
      "cell_type": "markdown",
      "source": [
        "Its interesting to note that even though **Audi** was in the list of top 10 vehicle makes, it doesn't show up in the top 10 list with highest failure"
      ],
      "metadata": {
        "id": "Dz0YPE_m588O"
      }
    },
    {
      "cell_type": "code",
      "source": [
        "sns.catplot(data=fact_results, x=\"result\", y=\"Age\", kind = 'box')"
      ],
      "metadata": {
        "colab": {
          "base_uri": "https://localhost:8080/",
          "height": 386
        },
        "id": "DctGGQo44Ejf",
        "outputId": "6f16928c-0edb-4f0e-bc26-c54aa2b0ecbe"
      },
      "execution_count": 67,
      "outputs": [
        {
          "output_type": "execute_result",
          "data": {
            "text/plain": [
              "<seaborn.axisgrid.FacetGrid at 0x7fca49598e10>"
            ]
          },
          "metadata": {},
          "execution_count": 67
        },
        {
          "output_type": "display_data",
          "data": {
            "text/plain": [
              "<Figure size 360x360 with 1 Axes>"
            ],
            "image/png": "[encoded data removed]"
          },
          "metadata": {
            "needs_background": "light"
          }
        }
      ]
    },
    {
      "cell_type": "code",
      "source": [
        "#Explore Test Type feature \n",
        "plt.figure(figsize=(10,6))\n",
        "sns.countplot(data = fact_results, y=fact_results.result, hue = \"test_type\")"
      ],
      "metadata": {
        "colab": {
          "base_uri": "https://localhost:8080/",
          "height": 458
        },
        "id": "nSk5XawdAO23",
        "outputId": "cd64b66f-052a-42da-8f82-7abc1a8181a2"
      },
      "execution_count": null,
      "outputs": [
        {
          "output_type": "execute_result",
          "data": {
            "text/plain": [
              "<matplotlib.axes._subplots.AxesSubplot at 0x7fd8d5fa0a90>"
            ]
          },
          "metadata": {},
          "execution_count": 163
        },
        {
          "output_type": "display_data",
          "data": {
            "text/plain": [
              "<Figure size 720x432 with 1 Axes>"
            ],
            "image/png": "[encoded data removed]"
          },
          "metadata": {
            "needs_background": "light"
          }
        }
      ]
    },
    {
      "cell_type": "code",
      "source": [
        "fact_results.test_type.value_counts()"
      ],
      "metadata": {
        "colab": {
          "base_uri": "https://localhost:8080/"
        },
        "id": "L_nEIKDWbGF5",
        "outputId": "b9979325-911d-43bf-ce93-30e2b614cef5"
      },
      "execution_count": 69,
      "outputs": [
        {
          "output_type": "execute_result",
          "data": {
            "text/plain": [
              "Normal Test         821772\n",
              "Re-Test             172404\n",
              "Statutory Appeal         3\n",
              "Name: test_type, dtype: int64"
            ]
          },
          "metadata": {},
          "execution_count": 69
        }
      ]
    },
    {
      "cell_type": "code",
      "source": [
        "#There are only 3 Statutory Appeal test cases. We can eliminate these records from our dataset to restrict the test type to 2 main categories only\n",
        "fact_results = fact_results[fact_results.test_type != 'Statutory Appeal']"
      ],
      "metadata": {
        "id": "HtAa4pOoE97L"
      },
      "execution_count": 71,
      "outputs": []
    },
    {
      "cell_type": "code",
      "source": [
        "fact_results.head()"
      ],
      "metadata": {
        "colab": {
          "base_uri": "https://localhost:8080/",
          "height": 206
        },
        "id": "X2Y7JZazFDL0",
        "outputId": "5791dce6-f517-4111-9463-368f13d6f83a"
      },
      "execution_count": 72,
      "outputs": [
        {
          "output_type": "execute_result",
          "data": {
            "text/plain": [
              "   test_id  test_class_id  test_mileage postcode_area           make  \\\n",
              "0       59              4      120775.0            SO  MERCEDES-BENZ   \n",
              "1      171              4       52073.0            CA     VOLKSWAGEN   \n",
              "2      193              4      100119.0            PR           AUDI   \n",
              "3      261              4       86455.0            ST     LAND ROVER   \n",
              "4      283              4       24737.0            DN           FIAT   \n",
              "\n",
              "       model  colour  cylinder_capacity    test_type fuel_type  result   Age  \n",
              "0          C  SILVER             2148.0  Normal Test    Diesel  Passed  5769  \n",
              "1     TIGUAN    GREY             1968.0  Normal Test    Diesel  Passed  2123  \n",
              "2         A4    BLUE             1968.0  Normal Test    Diesel  Passed  4468  \n",
              "3  DISCOVERY    BLUE             2495.0  Normal Test    Diesel  Passed  6342  \n",
              "4     DUCATO   WHITE             2287.0  Normal Test    Diesel  Passed  5074  "
            ],
            "text/html": [
              "\n",
              "  <div id=\"df-78416617-451d-4871-8921-2e275d37167b\">\n",
              "    <div class=\"colab-df-container\">\n",
              "      <div>\n",
              "<style scoped>\n",
              "    .dataframe tbody tr th:only-of-type {\n",
              "        vertical-align: middle;\n",
              "    }\n",
              "\n",
              "    .dataframe tbody tr th {\n",
              "        vertical-align: top;\n",
              "    }\n",
              "\n",
              "    .dataframe thead th {\n",
              "        text-align: right;\n",
              "    }\n",
              "</style>\n",
              "<table border=\"1\" class=\"dataframe\">\n",
              "  <thead>\n",
              "    <tr style=\"text-align: right;\">\n",
              "      <th></th>\n",
              "      <th>test_id</th>\n",
              "      <th>test_class_id</th>\n",
              "      <th>test_mileage</th>\n",
              "      <th>postcode_area</th>\n",
              "      <th>make</th>\n",
              "      <th>model</th>\n",
              "      <th>colour</th>\n",
              "      <th>cylinder_capacity</th>\n",
              "      <th>test_type</th>\n",
              "      <th>fuel_type</th>\n",
              "      <th>result</th>\n",
              "      <th>Age</th>\n",
              "    </tr>\n",
              "  </thead>\n",
              "  <tbody>\n",
              "    <tr>\n",
              "      <th>0</th>\n",
              "      <td>59</td>\n",
              "      <td>4</td>\n",
              "      <td>120775.0</td>\n",
              "      <td>SO</td>\n",
              "      <td>MERCEDES-BENZ</td>\n",
              "      <td>C</td>\n",
              "      <td>SILVER</td>\n",
              "      <td>2148.0</td>\n",
              "      <td>Normal Test</td>\n",
              "      <td>Diesel</td>\n",
              "      <td>Passed</td>\n",
              "      <td>5769</td>\n",
              "    </tr>\n",
              "    <tr>\n",
              "      <th>1</th>\n",
              "      <td>171</td>\n",
              "      <td>4</td>\n",
              "      <td>52073.0</td>\n",
              "      <td>CA</td>\n",
              "      <td>VOLKSWAGEN</td>\n",
              "      <td>TIGUAN</td>\n",
              "      <td>GREY</td>\n",
              "      <td>1968.0</td>\n",
              "      <td>Normal Test</td>\n",
              "      <td>Diesel</td>\n",
              "      <td>Passed</td>\n",
              "      <td>2123</td>\n",
              "    </tr>\n",
              "    <tr>\n",
              "      <th>2</th>\n",
              "      <td>193</td>\n",
              "      <td>4</td>\n",
              "      <td>100119.0</td>\n",
              "      <td>PR</td>\n",
              "      <td>AUDI</td>\n",
              "      <td>A4</td>\n",
              "      <td>BLUE</td>\n",
              "      <td>1968.0</td>\n",
              "      <td>Normal Test</td>\n",
              "      <td>Diesel</td>\n",
              "      <td>Passed</td>\n",
              "      <td>4468</td>\n",
              "    </tr>\n",
              "    <tr>\n",
              "      <th>3</th>\n",
              "      <td>261</td>\n",
              "      <td>4</td>\n",
              "      <td>86455.0</td>\n",
              "      <td>ST</td>\n",
              "      <td>LAND ROVER</td>\n",
              "      <td>DISCOVERY</td>\n",
              "      <td>BLUE</td>\n",
              "      <td>2495.0</td>\n",
              "      <td>Normal Test</td>\n",
              "      <td>Diesel</td>\n",
              "      <td>Passed</td>\n",
              "      <td>6342</td>\n",
              "    </tr>\n",
              "    <tr>\n",
              "      <th>4</th>\n",
              "      <td>283</td>\n",
              "      <td>4</td>\n",
              "      <td>24737.0</td>\n",
              "      <td>DN</td>\n",
              "      <td>FIAT</td>\n",
              "      <td>DUCATO</td>\n",
              "      <td>WHITE</td>\n",
              "      <td>2287.0</td>\n",
              "      <td>Normal Test</td>\n",
              "      <td>Diesel</td>\n",
              "      <td>Passed</td>\n",
              "      <td>5074</td>\n",
              "    </tr>\n",
              "  </tbody>\n",
              "</table>\n",
              "</div>\n",
              "      <button class=\"colab-df-convert\" onclick=\"convertToInteractive('df-78416617-451d-4871-8921-2e275d37167b')\"\n",
              "              title=\"Convert this dataframe to an interactive table.\"\n",
              "              style=\"display:none;\">\n",
              "        \n",
              "  <svg xmlns=\"http://www.w3.org/2000/svg\" height=\"24px\"viewBox=\"0 0 24 24\"\n",
              "       width=\"24px\">\n",
              "    <path d=\"M0 0h24v24H0V0z\" fill=\"none\"/>\n",
              "    <path d=\"M18.56 5.44l.94 2.06.94-2.06 2.06-.94-2.06-.94-.94-2.06-.94 2.06-2.06.94zm-11 1L8.5 8.5l.94-2.06 2.06-.94-2.06-.94L8.5 2.5l-.94 2.06-2.06.94zm10 10l.94 2.06.94-2.06 2.06-.94-2.06-.94-.94-2.06-.94 2.06-2.06.94z\"/><path d=\"M17.41 7.96l-1.37-1.37c-.4-.4-.92-.59-1.43-.59-.52 0-1.04.2-1.43.59L10.3 9.45l-7.72 7.72c-.78.78-.78 2.05 0 2.83L4 21.41c.39.39.9.59 1.41.59.51 0 1.02-.2 1.41-.59l7.78-7.78 2.81-2.81c.8-.78.8-2.07 0-2.86zM5.41 20L4 18.59l7.72-7.72 1.47 1.35L5.41 20z\"/>\n",
              "  </svg>\n",
              "      </button>\n",
              "      \n",
              "  <style>\n",
              "    .colab-df-container {\n",
              "      display:flex;\n",
              "      flex-wrap:wrap;\n",
              "      gap: 12px;\n",
              "    }\n",
              "\n",
              "    .colab-df-convert {\n",
              "      background-color: #E8F0FE;\n",
              "      border: none;\n",
              "      border-radius: 50%;\n",
              "      cursor: pointer;\n",
              "      display: none;\n",
              "      fill: #1967D2;\n",
              "      height: 32px;\n",
              "      padding: 0 0 0 0;\n",
              "      width: 32px;\n",
              "    }\n",
              "\n",
              "    .colab-df-convert:hover {\n",
              "      background-color: #E2EBFA;\n",
              "      box-shadow: 0px 1px 2px rgba(60, 64, 67, 0.3), 0px 1px 3px 1px rgba(60, 64, 67, 0.15);\n",
              "      fill: #174EA6;\n",
              "    }\n",
              "\n",
              "    [theme=dark] .colab-df-convert {\n",
              "      background-color: #3B4455;\n",
              "      fill: #D2E3FC;\n",
              "    }\n",
              "\n",
              "    [theme=dark] .colab-df-convert:hover {\n",
              "      background-color: #434B5C;\n",
              "      box-shadow: 0px 1px 3px 1px rgba(0, 0, 0, 0.15);\n",
              "      filter: drop-shadow(0px 1px 2px rgba(0, 0, 0, 0.3));\n",
              "      fill: #FFFFFF;\n",
              "    }\n",
              "  </style>\n",
              "\n",
              "      <script>\n",
              "        const buttonEl =\n",
              "          document.querySelector('#df-78416617-451d-4871-8921-2e275d37167b button.colab-df-convert');\n",
              "        buttonEl.style.display =\n",
              "          google.colab.kernel.accessAllowed ? 'block' : 'none';\n",
              "\n",
              "        async function convertToInteractive(key) {\n",
              "          const element = document.querySelector('#df-78416617-451d-4871-8921-2e275d37167b');\n",
              "          const dataTable =\n",
              "            await google.colab.kernel.invokeFunction('convertToInteractive',\n",
              "                                                     [key], {});\n",
              "          if (!dataTable) return;\n",
              "\n",
              "          const docLinkHtml = 'Like what you see? Visit the ' +\n",
              "            '<a target=\"_blank\" href=https://colab.research.google.com/notebooks/data_table.ipynb>data table notebook</a>'\n",
              "            + ' to learn more about interactive tables.';\n",
              "          element.innerHTML = '';\n",
              "          dataTable['output_type'] = 'display_data';\n",
              "          await google.colab.output.renderOutput(dataTable, element);\n",
              "          const docLink = document.createElement('div');\n",
              "          docLink.innerHTML = docLinkHtml;\n",
              "          element.appendChild(docLink);\n",
              "        }\n",
              "      </script>\n",
              "    </div>\n",
              "  </div>\n",
              "  "
            ]
          },
          "metadata": {},
          "execution_count": 72
        }
      ]
    },
    {
      "cell_type": "code",
      "source": [
        "#Pseudo code for exporting a dataframe to csv\n",
        "# from google.colab import files\n",
        "# pd.DataFrame(fact_results.make.unique()).to_csv('df.csv')\n",
        "# files.download('df.csv')\n",
        "\n",
        "#Pseudo Code for cleaning \"MAKE\" feature\n",
        "# make_df = pd.DataFrame(fact_results.make.drop_duplicates())\n",
        "# make_df['temp_make'] = make_df.make\n",
        "# #make_df = make_df['temp_make'].str.split('-',expand=True)\n",
        "# final = make_df.assign(**make_df.temp_make.str.split(' ',expand=True).add_prefix('Make_'))\n",
        "# final.head()"
      ],
      "metadata": {
        "colab": {
          "base_uri": "https://localhost:8080/",
          "height": 17
        },
        "id": "YdpfIhT0FIVc",
        "outputId": "2c863cd6-67f6-44bc-c80c-f7ea939afef8"
      },
      "execution_count": null,
      "outputs": [
        {
          "output_type": "display_data",
          "data": {
            "text/plain": [
              "<IPython.core.display.Javascript object>"
            ],
            "application/javascript": [
              "\n",
              "    async function download(id, filename, size) {\n",
              "      if (!google.colab.kernel.accessAllowed) {\n",
              "        return;\n",
              "      }\n",
              "      const div = document.createElement('div');\n",
              "      const label = document.createElement('label');\n",
              "      label.textContent = `Downloading \"${filename}\": `;\n",
              "      div.appendChild(label);\n",
              "      const progress = document.createElement('progress');\n",
              "      progress.max = size;\n",
              "      div.appendChild(progress);\n",
              "      document.body.appendChild(div);\n",
              "\n",
              "      const buffers = [];\n",
              "      let downloaded = 0;\n",
              "\n",
              "      const channel = await google.colab.kernel.comms.open(id);\n",
              "      // Send a message to notify the kernel that we're ready.\n",
              "      channel.send({})\n",
              "\n",
              "      for await (const message of channel.messages) {\n",
              "        // Send a message to notify the kernel that we're ready.\n",
              "        channel.send({})\n",
              "        if (message.buffers) {\n",
              "          for (const buffer of message.buffers) {\n",
              "            buffers.push(buffer);\n",
              "            downloaded += buffer.byteLength;\n",
              "            progress.value = downloaded;\n",
              "          }\n",
              "        }\n",
              "      }\n",
              "      const blob = new Blob(buffers, {type: 'application/binary'});\n",
              "      const a = document.createElement('a');\n",
              "      a.href = window.URL.createObjectURL(blob);\n",
              "      a.download = filename;\n",
              "      div.appendChild(a);\n",
              "      a.click();\n",
              "      div.remove();\n",
              "    }\n",
              "  "
            ]
          },
          "metadata": {}
        },
        {
          "output_type": "display_data",
          "data": {
            "text/plain": [
              "<IPython.core.display.Javascript object>"
            ],
            "application/javascript": [
              "download(\"download_deef403f-2dfd-4f96-9cdb-f3d1bd14f1f3\", \"df.csv\", 16075)"
            ]
          },
          "metadata": {}
        }
      ]
    },
    {
      "cell_type": "markdown",
      "source": [
        "### **Encoding**"
      ],
      "metadata": {
        "id": "AUhcnN6Kc5YS"
      }
    },
    {
      "cell_type": "code",
      "source": [
        "#Converting all categorical variables to numerical \n",
        "categorical = ['postcode_area', 'make','model', 'colour', 'test_type', 'fuel_type', 'result']\n",
        "for col in categorical:\n",
        "    le = preprocessing.LabelEncoder()\n",
        "    fact_results[col] = le.fit_transform( fact_results[col])\n",
        "   "
      ],
      "metadata": {
        "id": "X7IvKEWLcN6a"
      },
      "execution_count": 91,
      "outputs": []
    },
    {
      "cell_type": "markdown",
      "source": [
        "Key callouts from HeatMap below -\n",
        "\n",
        "1.   Result doesn't have a strong correlation to any other features\n",
        "2.   We can safely drop `test_id` & `test_class_id` as they dont have strong correlation to any features and don't signify anything about the data\n",
        "3. `test_mileage` and `Age` have a strong correlation. This makes sense as vehicles with higher age will be the ones that have travelled more \n",
        "\n"
      ],
      "metadata": {
        "id": "Hk2b_RNy1Nvz"
      }
    },
    {
      "cell_type": "code",
      "source": [
        "#Checking the correlation of numerical features\n",
        "fig, ax = plt.subplots(figsize=(14,8))         \n",
        "sns.heatmap(fact_results.corr(), annot=True, linewidths=.5, ax=ax)"
      ],
      "metadata": {
        "colab": {
          "base_uri": "https://localhost:8080/",
          "height": 593
        },
        "id": "BMfinA4kzmVl",
        "outputId": "92b631ba-21f8-45b7-b573-fc0fc1fd6bc7"
      },
      "execution_count": 96,
      "outputs": [
        {
          "output_type": "execute_result",
          "data": {
            "text/plain": [
              "<matplotlib.axes._subplots.AxesSubplot at 0x7fca49b67750>"
            ]
          },
          "metadata": {},
          "execution_count": 96
        },
        {
          "output_type": "display_data",
          "data": {
            "text/plain": [
              "<Figure size 1008x576 with 2 Axes>"
            ],
            "image/png": "[encoded data removed]"
          },
          "metadata": {
            "needs_background": "light"
          }
        }
      ]
    },
    {
      "cell_type": "code",
      "source": [
        "fact_results.drop(columns = ['test_id', 'test_class_id'], inplace = True)"
      ],
      "metadata": {
        "id": "Hn1_Z1ZezvYh"
      },
      "execution_count": 98,
      "outputs": []
    }
  ]
}